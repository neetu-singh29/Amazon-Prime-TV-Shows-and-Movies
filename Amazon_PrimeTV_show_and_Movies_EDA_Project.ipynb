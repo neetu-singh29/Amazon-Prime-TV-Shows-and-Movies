{
  "nbformat": 4,
  "nbformat_minor": 0,
  "metadata": {
    "colab": {
      "private_outputs": true,
      "provenance": [],
      "collapsed_sections": [
        "w6K7xa23Elo4"
      ]
    },
    "kernelspec": {
      "name": "python3",
      "display_name": "Python 3"
    },
    "language_info": {
      "name": "python"
    }
  },
  "cells": [
    {
      "cell_type": "markdown",
      "source": [
        "# **Project Name**    - Amazon Prime TV Shows and Movies\n",
        "\n"
      ],
      "metadata": {
        "id": "vncDsAP0Gaoa"
      }
    },
    {
      "cell_type": "markdown",
      "source": [
        "##### **Project Type**    - EDA\n",
        "##### **Contribution**    - Individual\n",
        "##### **Team Member 1 -** Neetu Singh\n"
      ],
      "metadata": {
        "id": "beRrZCGUAJYm"
      }
    },
    {
      "cell_type": "markdown",
      "source": [
        "# **Project Summary -**"
      ],
      "metadata": {
        "id": "FJNUwmbgGyua"
      }
    },
    {
      "cell_type": "markdown",
      "source": [
        "**📋 Project Summary:**\n",
        "This project focuses on conducting an in-depth Exploratory Data Analysis (EDA) and building a Machine Learning model using Amazon Prime's TV Shows and Movies dataset. The goal is to uncover key insights about content distribution, viewer preferences, and content performance on the platform. Through 15 comprehensive charts and data visualizations, the project explores trends in genres, ratings, content types, and more. Additionally, a machine learning model is developed to predict the likelihood of a show or movie receiving high IMDb ratings, aiding Amazon Prime in content strategy and user engagement improvements."
      ],
      "metadata": {
        "id": "vdD95G2GSKWg"
      }
    },
    {
      "cell_type": "markdown",
      "source": [],
      "metadata": {
        "id": "F6v_1wHtG2nS"
      }
    },
    {
      "cell_type": "markdown",
      "source": [
        "# **GitHub Link -**"
      ],
      "metadata": {
        "id": "w6K7xa23Elo4"
      }
    },
    {
      "cell_type": "markdown",
      "source": [
        "Provide your GitHub Link here."
      ],
      "metadata": {
        "id": "h1o69JH3Eqqn"
      }
    },
    {
      "cell_type": "markdown",
      "source": [
        "# **Problem Statement**\n"
      ],
      "metadata": {
        "id": "yQaldy8SH6Dl"
      }
    },
    {
      "cell_type": "markdown",
      "source": [
        "**❓ Problem Statement:**\n",
        "Amazon Prime offers a vast library of TV shows and movies, but understanding what drives user engagement and high content ratings remains a challenge. With an ever-growing catalog, it's essential to identify patterns that contribute to successful content and predict the likelihood of future content performing well.\n",
        "\n",
        "The core problem is to analyze the existing Amazon Prime content library and build a predictive model that can help the platform make data-driven decisions for content acquisition and recommendations."
      ],
      "metadata": {
        "id": "DpeJGUA3kjGy"
      }
    },
    {
      "cell_type": "markdown",
      "source": [
        "#### **Define Your Business Objective?**"
      ],
      "metadata": {
        "id": "PH-0ReGfmX4f"
      }
    },
    {
      "cell_type": "markdown",
      "source": [
        "**🎯 Business Objective:**\n",
        "The primary objective of this project is to:\n",
        "\n",
        "*  Analyze Amazon Prime's TV Shows and Movies to identify patterns in content types, genres, IMDb ratings, and release trends.\n",
        "\n",
        "*  Predict whether a show or movie is likely to receive a high IMDb score (≥7) using machine learning techniques.\n",
        "\n",
        "*  Support Decision-Making for content acquisition, curation, and personalized recommendations based on data insights.\n",
        "\n",
        "*  Improve Viewer Engagement by understanding user preferences and optimizing the content library accordingly."
      ],
      "metadata": {
        "id": "PhDvGCAqmjP1"
      }
    },
    {
      "cell_type": "markdown",
      "source": [
        "# **General Guidelines** : -  "
      ],
      "metadata": {
        "id": "mDgbUHAGgjLW"
      }
    },
    {
      "cell_type": "markdown",
      "source": [
        "1.   Well-structured, formatted, and commented code is required.\n",
        "2.   Exception Handling, Production Grade Code & Deployment Ready Code will be a plus. Those students will be awarded some additional credits.\n",
        "     \n",
        "     The additional credits will have advantages over other students during Star Student selection.\n",
        "       \n",
        "             [ Note: - Deployment Ready Code is defined as, the whole .ipynb notebook should be executable in one go\n",
        "                       without a single error logged. ]\n",
        "\n",
        "3.   Each and every logic should have proper comments.\n",
        "4. You may add as many number of charts you want. Make Sure for each and every chart the following format should be answered.\n",
        "        \n",
        "\n",
        "```\n",
        "# Chart visualization code\n",
        "```\n",
        "            \n",
        "\n",
        "*   Why did you pick the specific chart?\n",
        "*   What is/are the insight(s) found from the chart?\n",
        "* Will the gained insights help creating a positive business impact?\n",
        "Are there any insights that lead to negative growth? Justify with specific reason.\n",
        "\n",
        "5. You have to create at least 20 logical & meaningful charts having important insights.\n",
        "\n",
        "\n",
        "[ Hints : - Do the Vizualization in  a structured way while following \"UBM\" Rule.\n",
        "\n",
        "U - Univariate Analysis,\n",
        "\n",
        "B - Bivariate Analysis (Numerical - Categorical, Numerical - Numerical, Categorical - Categorical)\n",
        "\n",
        "M - Multivariate Analysis\n",
        " ]\n",
        "\n",
        "\n",
        "\n"
      ],
      "metadata": {
        "id": "ZrxVaUj-hHfC"
      }
    },
    {
      "cell_type": "markdown",
      "source": [
        "# ***Let's Begin !***"
      ],
      "metadata": {
        "id": "O_i_v8NEhb9l"
      }
    },
    {
      "cell_type": "markdown",
      "source": [
        "## ***1. Know Your Data***"
      ],
      "metadata": {
        "id": "HhfV-JJviCcP"
      }
    },
    {
      "cell_type": "markdown",
      "source": [
        "### Import Libraries"
      ],
      "metadata": {
        "id": "Y3lxredqlCYt"
      }
    },
    {
      "cell_type": "code",
      "source": [
        "# Import Libraries\n",
        "import pandas as pd\n",
        "import numpy as np\n",
        "import matplotlib.pyplot as plt\n",
        "import seaborn as sns"
      ],
      "metadata": {
        "id": "M8Vqi-pPk-HR"
      },
      "execution_count": null,
      "outputs": []
    },
    {
      "cell_type": "markdown",
      "source": [
        "### Dataset Loading"
      ],
      "metadata": {
        "id": "3RnN4peoiCZX"
      }
    },
    {
      "cell_type": "code",
      "source": [
        "# Load Dataset\n",
        "titles = pd.read_csv('titles.csv')\n",
        "credits = pd.read_csv('credits.csv')"
      ],
      "metadata": {
        "id": "4CkvbW_SlZ_R"
      },
      "execution_count": null,
      "outputs": []
    },
    {
      "cell_type": "markdown",
      "source": [
        "### Dataset First View"
      ],
      "metadata": {
        "id": "x71ZqKXriCWQ"
      }
    },
    {
      "cell_type": "code",
      "source": [
        "# Dataset First Look\n",
        "display(titles.head())\n",
        "display(credits.head())"
      ],
      "metadata": {
        "id": "LWNFOSvLl09H"
      },
      "execution_count": null,
      "outputs": []
    },
    {
      "cell_type": "markdown",
      "source": [
        "### Dataset Rows & Columns count"
      ],
      "metadata": {
        "id": "7hBIi_osiCS2"
      }
    },
    {
      "cell_type": "code",
      "source": [
        "# Dataset Rows & Columns count\n",
        "print(\"Titles dataset shape:\", titles.shape)\n",
        "print(\"Credits dataset shape:\", credits.shape)\n"
      ],
      "metadata": {
        "id": "Kllu7SJgmLij"
      },
      "execution_count": null,
      "outputs": []
    },
    {
      "cell_type": "markdown",
      "source": [
        "### Dataset Information"
      ],
      "metadata": {
        "id": "JlHwYmJAmNHm"
      }
    },
    {
      "cell_type": "code",
      "source": [
        "# Dataset Info\n",
        "print(\"Titles dataset info:\")\n",
        "titles.info()\n",
        "print(\"\\nCredits dataset info:\")\n",
        "credits.info()"
      ],
      "metadata": {
        "id": "e9hRXRi6meOf"
      },
      "execution_count": null,
      "outputs": []
    },
    {
      "cell_type": "markdown",
      "source": [
        "#### Duplicate Values"
      ],
      "metadata": {
        "id": "35m5QtbWiB9F"
      }
    },
    {
      "cell_type": "code",
      "source": [
        "# Dataset Duplicate Value Count\n",
        "print(\"Duplicate values in titles:\", titles.duplicated().sum())\n",
        "print(\"Duplicate values in credits:\", credits.duplicated().sum())\n"
      ],
      "metadata": {
        "id": "1sLdpKYkmox0"
      },
      "execution_count": null,
      "outputs": []
    },
    {
      "cell_type": "markdown",
      "source": [
        "#### Missing Values/Null Values"
      ],
      "metadata": {
        "id": "PoPl-ycgm1ru"
      }
    },
    {
      "cell_type": "code",
      "source": [
        "# Missing Values/Null Values Count\n",
        "print(\"Missing values in titles:\\n\", titles.isnull().sum())\n",
        "print(\"\\nMissing values in credits:\\n\", credits.isnull().sum())\n"
      ],
      "metadata": {
        "id": "GgHWkxvamxVg"
      },
      "execution_count": null,
      "outputs": []
    },
    {
      "cell_type": "code",
      "source": [
        "# Visualizing the missing values\n",
        "plt.figure(figsize=(10, 6))\n",
        "sns.heatmap(titles.isnull(), cbar=False, cmap='viridis')\n",
        "plt.title('Missing Values in Titles Dataset')\n",
        "plt.show()\n",
        "\n",
        "plt.figure(figsize=(10, 6))\n",
        "sns.heatmap(credits.isnull(), cbar=False, cmap='viridis')\n",
        "plt.title('Missing Values in Credits Dataset')\n",
        "plt.show()\n"
      ],
      "metadata": {
        "id": "3q5wnI3om9sJ"
      },
      "execution_count": null,
      "outputs": []
    },
    {
      "cell_type": "code",
      "source": [
        "# Merge datasets (if common key exists)\n",
        "if 'id' in titles.columns and 'id' in credits.columns:\n",
        "    df = pd.merge(titles, credits, on='id', how='left')\n",
        "else:\n",
        "    df = titles.copy()"
      ],
      "metadata": {
        "id": "xASRCESAP9lZ"
      },
      "execution_count": null,
      "outputs": []
    },
    {
      "cell_type": "markdown",
      "source": [
        "### What did you know about your dataset?"
      ],
      "metadata": {
        "id": "H0kj-8xxnORC"
      }
    },
    {
      "cell_type": "markdown",
      "source": [
        "*   **Titles dataset:** Contains information about movies and TV shows, including title, type, release year, rating, genres, etc. It has some missing values in columns like 'age_certification', 'runtime', 'genres', etc.\n",
        "*   **Credits dataset:** Contains information about the cast and crew of the titles, including the person's ID, their role, and the title's ID. It has some missing values in the 'role' column.\n",
        "*   The datasets will need to be merged for comprehensive analysis.\n",
        "*   Data cleaning and handling missing values will be necessary before proceeding with further analysis."
      ],
      "metadata": {
        "id": "gfoNAAC-nUe_"
      }
    },
    {
      "cell_type": "markdown",
      "source": [
        "## ***2. Understanding Your Variables***"
      ],
      "metadata": {
        "id": "nA9Y7ga8ng1Z"
      }
    },
    {
      "cell_type": "code",
      "source": [
        "# Dataset Columns\n",
        "print(\"Titles dataset columns:\", titles.columns)\n",
        "print(\"Credits dataset columns:\", credits.columns)\n"
      ],
      "metadata": {
        "id": "j7xfkqrt5Ag5"
      },
      "execution_count": null,
      "outputs": []
    },
    {
      "cell_type": "code",
      "source": [
        "# Dataset Describe\n",
        "display(titles.describe())\n",
        "display(credits.describe())\n"
      ],
      "metadata": {
        "id": "DnOaZdaE5Q5t"
      },
      "execution_count": null,
      "outputs": []
    },
    {
      "cell_type": "markdown",
      "source": [
        "### Variables Description"
      ],
      "metadata": {
        "id": "PBTbrJXOngz2"
      }
    },
    {
      "cell_type": "markdown",
      "source": [
        "# Answer Here:\n",
        "# **Titles Dataset:**\n",
        "*   **show_id:** Unique identifier for each show or movie.\n",
        "*   **type:** Whether the content is a 'SHOW' or a 'MOVIE'.\n",
        "*   **title:** Title of the show or movie.\n",
        "*   **director:** Director(s) of the show or movie.\n",
        "*   **cast:** Cast members of the show or movie.\n",
        "*   **country:** Country of origin.\n",
        "*   **date_added:** Date the content was added to Amazon Prime.\n",
        "*   **release_year:** Year of release.\n",
        "*   **rating:** Content rating (e.g., PG-13, TV-MA).\n",
        "*   **duration:** Duration of the movie or show.\n",
        "*   **listed_in:** Genres or categories the content is listed under.\n",
        "*   **description:** Brief description of the content.\n",
        "\n",
        "# **Credits Dataset:**\n",
        "*   **person_id:** Unique identifier for each person involved in the production.\n",
        "*   **id:** Title ID, linking to the 'titles' dataset.\n",
        "*   **name:** Name of the person (actor, director, etc.).\n",
        "*   **character:** Character played by the actor (if applicable).\n",
        "*   **role:** Role of the person (e.g., ACTOR, DIRECTOR)."
      ],
      "metadata": {
        "id": "aJV4KIxSnxay"
      }
    },
    {
      "cell_type": "markdown",
      "source": [
        "### Check Unique Values for each variable."
      ],
      "metadata": {
        "id": "u3PMJOP6ngxN"
      }
    },
    {
      "cell_type": "code",
      "source": [
        "# Check Unique Values for each variable.\n",
        "for column in titles.columns:\n",
        "    print(f\"Unique values in '{column}': {titles[column].nunique()}\")\n",
        "\n",
        "for column in credits.columns:\n",
        "    print(f\"Unique values in '{column}': {credits[column].nunique()}\")"
      ],
      "metadata": {
        "id": "zms12Yq5n-jE"
      },
      "execution_count": null,
      "outputs": []
    },
    {
      "cell_type": "markdown",
      "source": [
        "## 3. ***Data Wrangling***"
      ],
      "metadata": {
        "id": "dauF4eBmngu3"
      }
    },
    {
      "cell_type": "markdown",
      "source": [
        "### Data Wrangling Code"
      ],
      "metadata": {
        "id": "bKJF3rekwFvQ"
      }
    },
    {
      "cell_type": "code",
      "source": [
        "# Write your code to make your dataset analysis ready.\n",
        "\n",
        "# ----------------------------------------------\n",
        "#  1. Handling Missing Values\n",
        "# ----------------------------------------------\n",
        "# Fill missing IMDb scores with mean\n",
        "df['imdb_score'] = df['imdb_score'].fillna(df['imdb_score'].mean())\n",
        "\n",
        "# Replace missing genres with 'Unknown'\n",
        "df['genres'] = df['genres'].fillna('Unknown')\n",
        "\n",
        "# Fill missing runtime with median\n",
        "df['runtime'] = df['runtime'].fillna(df['runtime'].median())\n",
        "\n",
        "# ----------------------------------------------\n",
        "#  2. Removing Duplicates\n",
        "# ----------------------------------------------\n",
        "# Step 1: Convert Lists to Hashable Tuples Before Deduplication\n",
        "# ---------------------------------------------------\n",
        "for col in df.columns:\n",
        "    if df[col].apply(lambda x: isinstance(x, list)).any():\n",
        "        df[col] = df[col].apply(lambda x: tuple(x) if isinstance(x, list) else x)\n",
        "\n",
        "# ---------------------------------------------------\n",
        "# Step 2: Drop Duplicates Safely\n",
        "# ---------------------------------------------------\n",
        "df.drop_duplicates\n",
        "\n",
        "# ---------------------------------------------------\n",
        "#  Step 3: (Optional) Convert Tuples Back to Lists for Further Analysis\n",
        "# ---------------------------------------------------\n",
        "for col in df.columns:\n",
        "    if df[col].apply(lambda x: isinstance(x, tuple)).any():\n",
        "        df[col] = df[col].apply(lambda x: list(x) if isinstance(x, tuple) else x)\n",
        "\n",
        "#  Final Check\n",
        "print(\"✅ Duplicates removed successfully without errors!\")\n",
        "display(df.head())\n",
        "\n",
        "# ----------------------------------------------\n",
        "# 3. Data Type Conversion\n",
        "# ----------------------------------------------\n",
        "# Convert release year to datetime\n",
        "df.loc[:, 'release_year'] = pd.to_datetime(df['release_year'], format='%Y', errors='coerce')\n",
        "\n",
        "# Convert IMDb scores to numeric\n",
        "df.loc[:, 'imdb_score'] = pd.to_numeric(df['imdb_score'], errors='coerce')\n",
        "\n",
        "# ----------------------------------------------\n",
        "# 4. Outlier Detection & Handling\n",
        "# ----------------------------------------------\n",
        "# Visualize runtime outliers\n",
        "plt.figure(figsize=(8,5))\n",
        "sns.boxplot(x=df['runtime'])\n",
        "plt.title('Runtime Outlier Detection')\n",
        "plt.show()\n",
        "\n",
        "# Remove extreme outliers (above 95th percentile)\n",
        "runtime_threshold = df['runtime'].quantile(0.95)\n",
        "df = df[df['runtime'] <= runtime_threshold]\n",
        "\n",
        "# ----------------------------------------------\n",
        "# 5. Text Data Processing\n",
        "# ----------------------------------------------\n",
        "# Split multi-value fields for better analysis\n",
        "df['genre_list'] = df['genres'].apply(lambda x: x.split(',') if isinstance(x, str) else [])\n",
        "\n",
        "# ----------------------------------------------\n",
        "# 6. Feature Engineering\n",
        "# ----------------------------------------------\n",
        "\n",
        "# Create a 'content_age' feature\n",
        "df['content_age'] = 2024 - pd.to_datetime(df['release_year'], errors='coerce').dt.year\n",
        "\n",
        "# Count number of genres per title\n",
        "df['genre_count'] = df['genre_list'].apply(lambda x: len(x) if isinstance(x, list) else 0)\n",
        "\n",
        "# Categorize IMDb score ranges\n",
        "df['rating_category'] = pd.cut(df['imdb_score'],\n",
        "                               bins=[0, 5, 7, 10],\n",
        "                               labels=['Low', 'Average', 'High'],\n",
        "                               include_lowest=True)\n",
        "\n",
        "# ----------------------------------------------\n",
        "# 7. Final Check After Wrangling\n",
        "# ----------------------------------------------\n",
        "print(\"🔍 Final Dataset Overview:\")\n",
        "display(df.info())\n",
        "print(f\"\\nMissing Values:\\n\", df.isnull().sum())\n",
        "print(f\"\\nSample Data:\\n\")\n",
        "display(df.head())\n",
        "# ----------------------------------------------\n",
        "# 8. Quick Visualization for Validation\n",
        "# ----------------------------------------------\n",
        "# IMDb Score Distribution\n",
        "plt.figure(figsize=(8,5))\n",
        "sns.histplot(df['imdb_score'], bins=20, kde=True, color='teal')\n",
        "plt.title('IMDb Score Distribution After Cleaning')\n",
        "plt.show()\n",
        "\n",
        "# Content Age Distribution\n",
        "plt.figure(figsize=(8,5))\n",
        "sns.histplot(df['content_age'], bins=20, kde=True, color='red')\n",
        "plt.title('Content Age Distribution')\n",
        "plt.show()\n",
        "\n",
        "# Genre Count Distribution\n",
        "plt.figure(figsize=(8,5))\n",
        "sns.countplot(y='genre_count', data=df, order=df['genre_count'].value_counts().index, hue='genre_count', legend=False, palette='coolwarm')\n",
        "plt.title('Number of Genres per Title')\n",
        "plt.show()\n",
        "\n",
        "print(\"Data Wrangling Completed Successfully!\")"
      ],
      "metadata": {
        "id": "wk-9a2fpoLcV"
      },
      "execution_count": null,
      "outputs": []
    },
    {
      "cell_type": "markdown",
      "source": [
        "### What all manipulations have you done and insights you found?"
      ],
      "metadata": {
        "id": "MSa1f5Uengrz"
      }
    },
    {
      "cell_type": "markdown",
      "source": [
        "**Answer Here:**\n",
        "\n",
        "#Manipulations Done:\n",
        "1. **Missing Values:**\n",
        "Filled missing IMDb scores with mean, genres with 'Unknown', and runtime with median.\n",
        "2. **Duplicates Removal:**Converted lists to tuples, dropped duplicates, and reverted tuples back to lists.\n",
        "3. **Data Type Conversion:**Converted release_year to datetime and imdb_score to numeric.\n",
        "4. **Outlier Handling:**Removed extreme runtime outliers above the 95th percentile.\n",
        "5. **Text Processing:**Split multi-genre fields into lists (genre_list) for detailed analysis.\n",
        "6. **Feature Engineering:**Created content_age, genre_count, and categorized IMDb scores into Low, Average, and High.\n",
        "# Key Insights:\n",
        "* Drama and Documentary are the most common genres.\n",
        "* Recent releases (post-2015) score higher on IMDb.\n",
        "* Movies dominate, but TV shows often have better ratings.\n",
        "* Runtime outliers removed; most movies run 90–120 mins.\n",
        "* USA & UK lead content production, but foreign films have niche followings.\n",
        "\n",
        "# Conclusion:\n",
        "The data wrangling process cleaned and prepared the dataset for deeper EDA and model building.\n",
        "The new features (content_age, genre_count, rating_category) allow for more insightful visualizations and will enhance the predictive power of future machine learning models."
      ],
      "metadata": {
        "id": "LbyXE7I1olp8"
      }
    },
    {
      "cell_type": "markdown",
      "source": [
        "## ***4. Data Vizualization, Storytelling & Experimenting with charts : Understand the relationships between variables***"
      ],
      "metadata": {
        "id": "GF8Ens_Soomf"
      }
    },
    {
      "cell_type": "markdown",
      "source": [
        "#### Chart - 1"
      ],
      "metadata": {
        "id": "0wOQAZs5pc--"
      }
    },
    {
      "cell_type": "code",
      "source": [
        "# Chart - 1 visualization code\n",
        "\n",
        "# ----------------------------------------------\n",
        "# 📊 Univariate Analysis\n",
        "# ----------------------------------------------\n",
        "\n",
        "# 1️⃣ Content Type Distribution\n",
        "plt.figure(figsize=(8,5))\n",
        "#sns.countplot(data=df, x='type', palette='coolwarm')\n",
        "sns.countplot(data=df, x='type', hue='type', palette='coolwarm', legend=False)  # Assign 'type' to 'hue'\n",
        "plt.title('Content Type Distribution')\n",
        "plt.show()\n",
        "\n"
      ],
      "metadata": {
        "id": "7v_ESjsspbW7"
      },
      "execution_count": null,
      "outputs": []
    },
    {
      "cell_type": "markdown",
      "source": [
        "##### 1. Why did you pick the specific chart?"
      ],
      "metadata": {
        "id": "K5QZ13OEpz2H"
      }
    },
    {
      "cell_type": "markdown",
      "source": [
        "**Answer Here:**To understand the proportion of movies vs. TV shows available on Amazon Prime.\n",
        "\n"
      ],
      "metadata": {
        "id": "XESiWehPqBRc"
      }
    },
    {
      "cell_type": "markdown",
      "source": [
        "##### 2. What is/are the insight(s) found from the chart?"
      ],
      "metadata": {
        "id": "lQ7QKXXCp7Bj"
      }
    },
    {
      "cell_type": "markdown",
      "source": [
        "**Answer Here:**Movies dominate the platform but TV Shows often have higher ratings."
      ],
      "metadata": {
        "id": "C_j1G7yiqdRP"
      }
    },
    {
      "cell_type": "markdown",
      "source": [
        "##### 3. Will the gained insights help creating a positive business impact?\n",
        "Are there any insights that lead to negative growth? Justify with specific reason."
      ],
      "metadata": {
        "id": "448CDAPjqfQr"
      }
    },
    {
      "cell_type": "markdown",
      "source": [
        "**Answer Here:** Guides Amazon Prime on optimizing content balance.Yes. Understanding content distribution helps Amazon optimize its library based on viewer preferences. Overemphasizing movies could neglect potential TV show audiences."
      ],
      "metadata": {
        "id": "3cspy4FjqxJW"
      }
    },
    {
      "cell_type": "markdown",
      "source": [
        "#### Chart - 2"
      ],
      "metadata": {
        "id": "KSlN3yHqYklG"
      }
    },
    {
      "cell_type": "code",
      "source": [
        "# Chart - 2 visualization code\n",
        "# 2️⃣ Top 10 Genres\n",
        "df['genres'] = df['genres'].fillna('Unknown')\n",
        "df['genre_list'] = df['genres'].apply(lambda x: x.split(',') if isinstance(x, str) else [])\n",
        "genres_exploded = df.explode('genre_list')\n",
        "top_genres = genres_exploded['genre_list'].value_counts().head(10)\n",
        "\n",
        "plt.figure(figsize=(10,5))\n",
        "top_genres.plot(kind='bar', color='purple')\n",
        "plt.title('Top 10 Genres')\n",
        "plt.ylabel('Count')\n",
        "plt.show()"
      ],
      "metadata": {
        "id": "R4YgtaqtYklH"
      },
      "execution_count": null,
      "outputs": []
    },
    {
      "cell_type": "markdown",
      "source": [
        "##### 1. Why did you pick the specific chart?"
      ],
      "metadata": {
        "id": "t6dVpIINYklI"
      }
    },
    {
      "cell_type": "markdown",
      "source": [
        "**Answer Here:**To identify the most popular genres that attract user attention."
      ],
      "metadata": {
        "id": "5aaW0BYyYklI"
      }
    },
    {
      "cell_type": "markdown",
      "source": [
        "##### 2. What is/are the insight(s) found from the chart?"
      ],
      "metadata": {
        "id": "ijmpgYnKYklI"
      }
    },
    {
      "cell_type": "markdown",
      "source": [
        "**Answer Here:**Drama, Documentary, and Comedy are the most common genres."
      ],
      "metadata": {
        "id": "PSx9atu2YklI"
      }
    },
    {
      "cell_type": "markdown",
      "source": [
        "##### 3. Will the gained insights help creating a positive business impact?\n",
        "Are there any insights that lead to negative growth? Justify with specific reason."
      ],
      "metadata": {
        "id": "-JiQyfWJYklI"
      }
    },
    {
      "cell_type": "markdown",
      "source": [
        "**Answer Here:**Yes. Focusing on high-demand genres can improve user engagement. Over-saturation in popular genres could lead to repetitive content fatigue."
      ],
      "metadata": {
        "id": "BcBbebzrYklV"
      }
    },
    {
      "cell_type": "markdown",
      "source": [
        "#### Chart - 3"
      ],
      "metadata": {
        "id": "EM7whBJCYoAo"
      }
    },
    {
      "cell_type": "code",
      "source": [
        "# Chart - 3 visualization code\n",
        "# 3️⃣ IMDb Score Distribution\n",
        "plt.figure(figsize=(8,5))\n",
        "sns.histplot(df['imdb_score'], bins=20, kde=True, color='teal')\n",
        "plt.title('IMDb Score Distribution')\n",
        "plt.show()"
      ],
      "metadata": {
        "id": "t6GMdE67YoAp"
      },
      "execution_count": null,
      "outputs": []
    },
    {
      "cell_type": "markdown",
      "source": [
        "##### 1. Why did you pick the specific chart?"
      ],
      "metadata": {
        "id": "fge-S5ZAYoAp"
      }
    },
    {
      "cell_type": "markdown",
      "source": [
        "**Answer Here:**To assess the quality of content based on IMDb ratings."
      ],
      "metadata": {
        "id": "5dBItgRVYoAp"
      }
    },
    {
      "cell_type": "markdown",
      "source": [
        "##### 2. What is/are the insight(s) found from the chart?"
      ],
      "metadata": {
        "id": "85gYPyotYoAp"
      }
    },
    {
      "cell_type": "markdown",
      "source": [
        "**Answer Here:**The majority of content falls between IMDb scores of 5 and 7."
      ],
      "metadata": {
        "id": "4jstXR6OYoAp"
      }
    },
    {
      "cell_type": "markdown",
      "source": [
        "##### 3. Will the gained insights help creating a positive business impact?\n",
        "Are there any insights that lead to negative growth? Justify with specific reason."
      ],
      "metadata": {
        "id": "RoGjAbkUYoAp"
      }
    },
    {
      "cell_type": "markdown",
      "source": [
        "**Answer Here:**Yes. It highlights the need for quality improvement in new content. Low-rated content might drive user dissatisfaction.\n",
        "\n"
      ],
      "metadata": {
        "id": "zfJ8IqMcYoAp"
      }
    },
    {
      "cell_type": "markdown",
      "source": [
        "#### Chart - 4"
      ],
      "metadata": {
        "id": "4Of9eVA-YrdM"
      }
    },
    {
      "cell_type": "code",
      "source": [
        "# Chart - 4 visualization code\n",
        "# 4️⃣ Runtime Distribution\n",
        "plt.figure(figsize=(8,5))\n",
        "sns.boxplot(data=df, x='runtime', color='coral')\n",
        "plt.title('Runtime Distribution')\n",
        "plt.show()"
      ],
      "metadata": {
        "id": "irlUoxc8YrdO"
      },
      "execution_count": null,
      "outputs": []
    },
    {
      "cell_type": "markdown",
      "source": [
        "##### 1. Why did you pick the specific chart?"
      ],
      "metadata": {
        "id": "iky9q4vBYrdO"
      }
    },
    {
      "cell_type": "markdown",
      "source": [
        "**Answer Here:**To analyze typical content lengths and detect outliers."
      ],
      "metadata": {
        "id": "aJRCwT6DYrdO"
      }
    },
    {
      "cell_type": "markdown",
      "source": [
        "##### 2. What is/are the insight(s) found from the chart?"
      ],
      "metadata": {
        "id": "F6T5p64dYrdO"
      }
    },
    {
      "cell_type": "markdown",
      "source": [
        "**Answer Here:**Most movies fall within the 90–120-minute range, with a few runtime outliers."
      ],
      "metadata": {
        "id": "Xx8WAJvtYrdO"
      }
    },
    {
      "cell_type": "markdown",
      "source": [
        "##### 3. Will the gained insights help creating a positive business impact?\n",
        "Are there any insights that lead to negative growth? Justify with specific reason."
      ],
      "metadata": {
        "id": "y-Ehk30pYrdP"
      }
    },
    {
      "cell_type": "markdown",
      "source": [
        "**Answer Here:**Yes. Understanding viewer preferences for content length helps tailor future productions. Extreme outliers may lead to lower engagement."
      ],
      "metadata": {
        "id": "jLNxxz7MYrdP"
      }
    },
    {
      "cell_type": "markdown",
      "source": [
        "#### Chart - 5"
      ],
      "metadata": {
        "id": "bamQiAODYuh1"
      }
    },
    {
      "cell_type": "code",
      "source": [
        "# Chart - 5 visualization code\n",
        "# 5️⃣ Content Age Distribution\n",
        "df['release_year'] = pd.to_datetime(df['release_year'], format='%Y', errors='coerce')\n",
        "df['content_age'] = 2024 - df['release_year'].dt.year\n",
        "\n",
        "plt.figure(figsize=(8,5))\n",
        "sns.histplot(df['content_age'], bins=20, kde=True, color='gold')\n",
        "plt.title('Content Age Distribution')\n",
        "plt.show()"
      ],
      "metadata": {
        "id": "TIJwrbroYuh3"
      },
      "execution_count": null,
      "outputs": []
    },
    {
      "cell_type": "markdown",
      "source": [
        "##### 1. Why did you pick the specific chart?"
      ],
      "metadata": {
        "id": "QHF8YVU7Yuh3"
      }
    },
    {
      "cell_type": "markdown",
      "source": [
        "**Answer Here:**To analyze the age of content and trends in releases."
      ],
      "metadata": {
        "id": "dcxuIMRPYuh3"
      }
    },
    {
      "cell_type": "markdown",
      "source": [
        "##### 2. What is/are the insight(s) found from the chart?"
      ],
      "metadata": {
        "id": "GwzvFGzlYuh3"
      }
    },
    {
      "cell_type": "markdown",
      "source": [
        "**Answer Here:**Recent releases (post-2015) dominate the library, but older classics remain popular."
      ],
      "metadata": {
        "id": "uyqkiB8YYuh3"
      }
    },
    {
      "cell_type": "markdown",
      "source": [
        "##### 3. Will the gained insights help creating a positive business impact?\n",
        "Are there any insights that lead to negative growth? Justify with specific reason."
      ],
      "metadata": {
        "id": "qYpmQ266Yuh3"
      }
    },
    {
      "cell_type": "markdown",
      "source": [
        "**Answer Here:** Yes. It helps in planning future acquisitions and highlights the importance of maintaining a balance between new content and evergreen classics."
      ],
      "metadata": {
        "id": "_WtzZ_hCYuh4"
      }
    },
    {
      "cell_type": "markdown",
      "source": [
        "#### Chart - 6"
      ],
      "metadata": {
        "id": "OH-pJp9IphqM"
      }
    },
    {
      "cell_type": "code",
      "source": [
        "# Chart - 6 visualization code\n",
        "# ----------------------------------------------\n",
        "# 📊 Bivariate Analysis\n",
        "# ----------------------------------------------\n",
        "\n",
        "# 6️⃣ IMDb Scores by Content Type\n",
        "plt.figure(figsize=(8,5))\n",
        "# sns.boxplot(data=df, x='type', y='imdb_score', palette='Set2')\n",
        "sns.boxplot(data=df, x='type', y='imdb_score', hue='type', palette='Set2', legend=False) # Assign 'type' to 'hue'\n",
        "plt.title('IMDb Scores by Content Type')\n",
        "plt.show()"
      ],
      "metadata": {
        "id": "kuRf4wtuphqN"
      },
      "execution_count": null,
      "outputs": []
    },
    {
      "cell_type": "markdown",
      "source": [
        "##### 1. Why did you pick the specific chart?"
      ],
      "metadata": {
        "id": "bbFf2-_FphqN"
      }
    },
    {
      "cell_type": "markdown",
      "source": [
        "**Answer Here:**To compare IMDb scores across Movies and TV Shows."
      ],
      "metadata": {
        "id": "loh7H2nzphqN"
      }
    },
    {
      "cell_type": "markdown",
      "source": [
        "##### 2. What is/are the insight(s) found from the chart?"
      ],
      "metadata": {
        "id": "_ouA3fa0phqN"
      }
    },
    {
      "cell_type": "markdown",
      "source": [
        "**Answer Here:**TV shows generally have slightly higher IMDb ratings compared to movies."
      ],
      "metadata": {
        "id": "VECbqPI7phqN"
      }
    },
    {
      "cell_type": "markdown",
      "source": [
        "##### 3. Will the gained insights help creating a positive business impact?\n",
        "Are there any insights that lead to negative growth? Justify with specific reason."
      ],
      "metadata": {
        "id": "Seke61FWphqN"
      }
    },
    {
      "cell_type": "markdown",
      "source": [
        "**Answer Here:**Yes. Investing in high-rated TV shows can boost engagement. However, an overemphasis on TV shows could alienate movie fans.\n",
        "\n"
      ],
      "metadata": {
        "id": "DW4_bGpfphqN"
      }
    },
    {
      "cell_type": "markdown",
      "source": [
        "#### Chart - 7"
      ],
      "metadata": {
        "id": "PIIx-8_IphqN"
      }
    },
    {
      "cell_type": "code",
      "source": [
        "# Chart - 7 visualization code\n",
        "# 7️⃣ Runtime vs. IMDb Score\n",
        "plt.figure(figsize=(8,5))\n",
        "sns.scatterplot(data=df, x='runtime', y='imdb_score', hue='type')\n",
        "plt.title('Runtime vs. IMDb Score')\n",
        "plt.show()"
      ],
      "metadata": {
        "id": "lqAIGUfyphqO"
      },
      "execution_count": null,
      "outputs": []
    },
    {
      "cell_type": "markdown",
      "source": [
        "##### 1. Why did you pick the specific chart?"
      ],
      "metadata": {
        "id": "t27r6nlMphqO"
      }
    },
    {
      "cell_type": "markdown",
      "source": [
        "**Answer Here:**To explore if longer runtimes correlate with higher IMDb scores."
      ],
      "metadata": {
        "id": "iv6ro40sphqO"
      }
    },
    {
      "cell_type": "markdown",
      "source": [
        "##### 2. What is/are the insight(s) found from the chart?"
      ],
      "metadata": {
        "id": "r2jJGEOYphqO"
      }
    },
    {
      "cell_type": "markdown",
      "source": [
        "**Answer Here:**No strong correlation found, but extremely long or short runtimes often have lower ratings."
      ],
      "metadata": {
        "id": "Po6ZPi4hphqO"
      }
    },
    {
      "cell_type": "markdown",
      "source": [
        "##### 3. Will the gained insights help creating a positive business impact?\n",
        "Are there any insights that lead to negative growth? Justify with specific reason."
      ],
      "metadata": {
        "id": "b0JNsNcRphqO"
      }
    },
    {
      "cell_type": "markdown",
      "source": [
        "**Answer Here:**Yes. Helps optimize runtimes to match user preferences, improving engagement and satisfaction."
      ],
      "metadata": {
        "id": "xvSq8iUTphqO"
      }
    },
    {
      "cell_type": "markdown",
      "source": [
        "#### Chart - 8"
      ],
      "metadata": {
        "id": "BZR9WyysphqO"
      }
    },
    {
      "cell_type": "code",
      "source": [
        "# Chart - 8 visualization code\n",
        "# 8️⃣ Top Countries by Content Count\n",
        "df['production_countries'] = df['production_countries'].fillna('Unknown')\n",
        "countries_exploded = df.explode('production_countries')\n",
        "top_countries = countries_exploded['production_countries'].value_counts().head(10)\n",
        "\n",
        "plt.figure(figsize=(10,5))\n",
        "top_countries.plot(kind='bar', color='green')\n",
        "plt.title('Top Countries by Content Count')\n",
        "plt.ylabel('Number of Titles')\n",
        "plt.show()"
      ],
      "metadata": {
        "id": "TdPTWpAVphqO"
      },
      "execution_count": null,
      "outputs": []
    },
    {
      "cell_type": "markdown",
      "source": [
        "##### 1. Why did you pick the specific chart?"
      ],
      "metadata": {
        "id": "jj7wYXLtphqO"
      }
    },
    {
      "cell_type": "markdown",
      "source": [
        "**Answer Here:**To identify key countries contributing to Amazon Prime’s content."
      ],
      "metadata": {
        "id": "Ob8u6rCTphqO"
      }
    },
    {
      "cell_type": "markdown",
      "source": [
        "##### 2. What is/are the insight(s) found from the chart?"
      ],
      "metadata": {
        "id": "eZrbJ2SmphqO"
      }
    },
    {
      "cell_type": "markdown",
      "source": [
        "**Answer Here:**USA and UK dominate content production, but other countries contribute niche titles."
      ],
      "metadata": {
        "id": "mZtgC_hjphqO"
      }
    },
    {
      "cell_type": "markdown",
      "source": [
        "##### 3. Will the gained insights help creating a positive business impact?\n",
        "Are there any insights that lead to negative growth? Justify with specific reason."
      ],
      "metadata": {
        "id": "rFu4xreNphqO"
      }
    },
    {
      "cell_type": "markdown",
      "source": [
        "**Answer Here:**Yes. Supports regional content strategies and helps diversify the library for a global audience."
      ],
      "metadata": {
        "id": "ey_0qi68phqO"
      }
    },
    {
      "cell_type": "markdown",
      "source": [
        "#### Chart - 9"
      ],
      "metadata": {
        "id": "YJ55k-q6phqO"
      }
    },
    {
      "cell_type": "code",
      "source": [
        "# Chart - 9 visualization code\n",
        "# 9️⃣ Genre vs. IMDb Score\n",
        "plt.figure(figsize=(12,6))\n",
        "sns.boxplot(data=genres_exploded, x='genre_list', y='imdb_score')\n",
        "plt.title('Genre vs. IMDb Score')\n",
        "plt.xticks(rotation=45)\n",
        "plt.show()"
      ],
      "metadata": {
        "id": "B2aS4O1ophqO"
      },
      "execution_count": null,
      "outputs": []
    },
    {
      "cell_type": "markdown",
      "source": [
        "##### 1. Why did you pick the specific chart?"
      ],
      "metadata": {
        "id": "gCFgpxoyphqP"
      }
    },
    {
      "cell_type": "markdown",
      "source": [
        "**Answer Here:**To understand how different genres perform in terms of user ratings."
      ],
      "metadata": {
        "id": "TVxDimi2phqP"
      }
    },
    {
      "cell_type": "markdown",
      "source": [
        "##### 2. What is/are the insight(s) found from the chart?"
      ],
      "metadata": {
        "id": "OVtJsKN_phqQ"
      }
    },
    {
      "cell_type": "markdown",
      "source": [
        "**Answer Here:**Genres like Documentary and Drama consistently achieve higher IMDb ratings."
      ],
      "metadata": {
        "id": "ngGi97qjphqQ"
      }
    },
    {
      "cell_type": "markdown",
      "source": [
        "##### 3. Will the gained insights help creating a positive business impact?\n",
        "Are there any insights that lead to negative growth? Justify with specific reason."
      ],
      "metadata": {
        "id": "lssrdh5qphqQ"
      }
    },
    {
      "cell_type": "markdown",
      "source": [
        "**Answer Here:**Yes. Helps Amazon focus on genres that yield higher user satisfaction. Underperforming genres could indicate areas needing quality improvement.\n",
        "\n"
      ],
      "metadata": {
        "id": "tBpY5ekJphqQ"
      }
    },
    {
      "cell_type": "markdown",
      "source": [
        "#### Chart - 10"
      ],
      "metadata": {
        "id": "U2RJ9gkRphqQ"
      }
    },
    {
      "cell_type": "code",
      "source": [
        "# Chart - 10 visualization code\n",
        "# 🔟 Release Year vs. IMDb Score\n",
        "plt.figure(figsize=(10,6))\n",
        "sns.lineplot(data=df, x='release_year', y='imdb_score')\n",
        "plt.title('Release Year vs. IMDb Score')\n",
        "plt.show()"
      ],
      "metadata": {
        "id": "GM7a4YP4phqQ"
      },
      "execution_count": null,
      "outputs": []
    },
    {
      "cell_type": "markdown",
      "source": [
        "##### 1. Why did you pick the specific chart?"
      ],
      "metadata": {
        "id": "1M8mcRywphqQ"
      }
    },
    {
      "cell_type": "markdown",
      "source": [
        "**Answer Here:**To analyze how content ratings have evolved over time."
      ],
      "metadata": {
        "id": "8agQvks0phqQ"
      }
    },
    {
      "cell_type": "markdown",
      "source": [
        "##### 2. What is/are the insight(s) found from the chart?"
      ],
      "metadata": {
        "id": "tgIPom80phqQ"
      }
    },
    {
      "cell_type": "markdown",
      "source": [
        "**Answer Here:**Content released after 2015 shows a decline in average IMDb scores."
      ],
      "metadata": {
        "id": "Qp13pnNzphqQ"
      }
    },
    {
      "cell_type": "markdown",
      "source": [
        "##### 3. Will the gained insights help creating a positive business impact?\n",
        "Are there any insights that lead to negative growth? Justify with specific reason."
      ],
      "metadata": {
        "id": "JMzcOPDDphqR"
      }
    },
    {
      "cell_type": "markdown",
      "source": [
        "**Answer Here:**Yes. Indicates a need for quality checks on recent content. A downward trend in ratings could negatively affect user retention."
      ],
      "metadata": {
        "id": "R4Ka1PC2phqR"
      }
    },
    {
      "cell_type": "markdown",
      "source": [
        "#### Chart - 11"
      ],
      "metadata": {
        "id": "x-EpHcCOp1ci"
      }
    },
    {
      "cell_type": "code",
      "source": [
        "# Chart - 11 visualization code\n",
        "# ----------------------------------------------\n",
        "# 📊 Multivariate Analysis\n",
        "# ----------------------------------------------\n",
        "\n",
        "# 1️⃣1️⃣ Content Type vs. Genre Popularity\n",
        "# Explode the 'genre_list' column to create individual rows for each genre\n",
        "genres_exploded = df.explode('genre_list')\n",
        "\n",
        "# Now create the crosstab using the exploded DataFrame\n",
        "plt.figure(figsize=(12, 6))\n",
        "sns.heatmap(pd.crosstab(genres_exploded['genre_list'], genres_exploded['type']), annot=True, cmap='YlGnBu')\n",
        "plt.title('Content Type vs. Genre Popularity')\n",
        "plt.show()\n"
      ],
      "metadata": {
        "id": "mAQTIvtqp1cj"
      },
      "execution_count": null,
      "outputs": []
    },
    {
      "cell_type": "markdown",
      "source": [
        "##### 1. Why did you pick the specific chart?"
      ],
      "metadata": {
        "id": "X_VqEhTip1ck"
      }
    },
    {
      "cell_type": "markdown",
      "source": [
        "**Answer Here:**To explore the relationship between content type (Movie/Show) and genre distribution.\n",
        "\n"
      ],
      "metadata": {
        "id": "-vsMzt_np1ck"
      }
    },
    {
      "cell_type": "markdown",
      "source": [
        "##### 2. What is/are the insight(s) found from the chart?"
      ],
      "metadata": {
        "id": "8zGJKyg5p1ck"
      }
    },
    {
      "cell_type": "markdown",
      "source": [
        "**Answer Here:**Movies dominate action and thriller genres, while TV shows focus on drama and comedy."
      ],
      "metadata": {
        "id": "ZYdMsrqVp1ck"
      }
    },
    {
      "cell_type": "markdown",
      "source": [
        "##### 3. Will the gained insights help creating a positive business impact?\n",
        "Are there any insights that lead to negative growth? Justify with specific reason."
      ],
      "metadata": {
        "id": "PVzmfK_Ep1ck"
      }
    },
    {
      "cell_type": "markdown",
      "source": [
        "**Answer Here:**Yes. Helps tailor content strategies based on genre preferences per content type."
      ],
      "metadata": {
        "id": "druuKYZpp1ck"
      }
    },
    {
      "cell_type": "markdown",
      "source": [
        "#### Chart - 12"
      ],
      "metadata": {
        "id": "n3dbpmDWp1ck"
      }
    },
    {
      "cell_type": "code",
      "source": [
        "# Chart - 12 visualization code\n",
        "# 1️⃣2️⃣ Top Directors & Their IMDb Averages\n",
        "director_scores = df[df['role'] == 'DIRECTOR'].groupby('name')['imdb_score'].mean().sort_values(ascending=False).head(10)\n",
        "\n",
        "plt.figure(figsize=(10,5))\n",
        "director_scores.plot(kind='bar', color='skyblue')\n",
        "plt.title('Top Directors by Average IMDb Score')\n",
        "plt.ylabel('Average IMDb Score')\n",
        "plt.show()"
      ],
      "metadata": {
        "id": "bwevp1tKp1ck"
      },
      "execution_count": null,
      "outputs": []
    },
    {
      "cell_type": "markdown",
      "source": [
        "##### 1. Why did you pick the specific chart?"
      ],
      "metadata": {
        "id": "ylSl6qgtp1ck"
      }
    },
    {
      "cell_type": "markdown",
      "source": [
        "**Answer Here:**To identify high-performing directors who consistently deliver top-rated content."
      ],
      "metadata": {
        "id": "m2xqNkiQp1ck"
      }
    },
    {
      "cell_type": "markdown",
      "source": [
        "##### 2. What is/are the insight(s) found from the chart?"
      ],
      "metadata": {
        "id": "ZWILFDl5p1ck"
      }
    },
    {
      "cell_type": "markdown",
      "source": [
        "**Answer Here:**Certain directors consistently produce higher IMDb-rated content."
      ],
      "metadata": {
        "id": "x-lUsV2mp1ck"
      }
    },
    {
      "cell_type": "markdown",
      "source": [
        "##### 3. Will the gained insights help creating a positive business impact?\n",
        "Are there any insights that lead to negative growth? Justify with specific reason."
      ],
      "metadata": {
        "id": "M7G43BXep1ck"
      }
    },
    {
      "cell_type": "markdown",
      "source": [
        "**Answer Here:**Yes. Amazon can prioritize collaborations with high-performing directors for new content."
      ],
      "metadata": {
        "id": "5wwDJXsLp1cl"
      }
    },
    {
      "cell_type": "markdown",
      "source": [
        "#### Chart - 13"
      ],
      "metadata": {
        "id": "Ag9LCva-p1cl"
      }
    },
    {
      "cell_type": "code",
      "source": [
        "# Chart - 13 visualization code\n",
        "# 1️⃣3️⃣ Content Age vs. IMDb Score by Genre\n",
        "plt.figure(figsize=(12,6))\n",
        "sns.violinplot(data=genres_exploded, x='content_age', y='imdb_score', hue='genre_list')\n",
        "plt.title('Content Age vs. IMDb Score by Genre')\n",
        "plt.show()"
      ],
      "metadata": {
        "id": "EUfxeq9-p1cl"
      },
      "execution_count": null,
      "outputs": []
    },
    {
      "cell_type": "markdown",
      "source": [
        "##### 1. Why did you pick the specific chart?"
      ],
      "metadata": {
        "id": "E6MkPsBcp1cl"
      }
    },
    {
      "cell_type": "markdown",
      "source": [
        "**Answer Here:**To see how content age impacts ratings across different genres.\n",
        "\n"
      ],
      "metadata": {
        "id": "V22bRsFWp1cl"
      }
    },
    {
      "cell_type": "markdown",
      "source": [
        "##### 2. What is/are the insight(s) found from the chart?"
      ],
      "metadata": {
        "id": "2cELzS2fp1cl"
      }
    },
    {
      "cell_type": "markdown",
      "source": [
        "**Answer Here:**Documentaries and dramas tend to maintain high ratings over time."
      ],
      "metadata": {
        "id": "ozQPc2_Ip1cl"
      }
    },
    {
      "cell_type": "markdown",
      "source": [
        "##### 3. Will the gained insights help creating a positive business impact?\n",
        "Are there any insights that lead to negative growth? Justify with specific reason."
      ],
      "metadata": {
        "id": "3MPXvC8up1cl"
      }
    },
    {
      "cell_type": "markdown",
      "source": [
        "**Answer Here:**Yes. Supports long-term value assessments of different genres, aiding in content retention strategies."
      ],
      "metadata": {
        "id": "GL8l1tdLp1cl"
      }
    },
    {
      "cell_type": "markdown",
      "source": [
        "#### Chart - 14 - Correlation Heatmap"
      ],
      "metadata": {
        "id": "NC_X3p0fY2L0"
      }
    },
    {
      "cell_type": "code",
      "source": [
        "# Correlation Heatmap visualization code\n",
        "# 1️⃣4️⃣ Genre Count vs. IMDb Rating Category\n",
        "df['genre_count'] = df['genre_list'].apply(lambda x: len(x) if isinstance(x, list) else 0)\n",
        "df['rating_category'] = pd.cut(df['imdb_score'], bins=[0,5,7,10], labels=['Low', 'Average', 'High'])\n",
        "\n",
        "# Create a crosstab to aggregate the data for the heatmap\n",
        "heatmap_data = pd.crosstab(df['genre_count'], df['rating_category'])\n",
        "\n",
        "plt.figure(figsize=(10,6))\n",
        "sns.heatmap(data=heatmap_data, annot=True, cmap='coolwarm', fmt='d') # fmt='d' to display counts as integers\n",
        "plt.title('Genre Count vs. IMDb Rating Category')\n",
        "plt.show()"
      ],
      "metadata": {
        "id": "xyC9zolEZNRQ"
      },
      "execution_count": null,
      "outputs": []
    },
    {
      "cell_type": "markdown",
      "source": [
        "##### 1. Why did you pick the specific chart?"
      ],
      "metadata": {
        "id": "UV0SzAkaZNRQ"
      }
    },
    {
      "cell_type": "markdown",
      "source": [
        "**Answer Here:**To check if titles with more genres perform better or worse in ratings.\n",
        "\n"
      ],
      "metadata": {
        "id": "DVPuT8LYZNRQ"
      }
    },
    {
      "cell_type": "markdown",
      "source": [
        "##### 2. What is/are the insight(s) found from the chart?"
      ],
      "metadata": {
        "id": "YPEH6qLeZNRQ"
      }
    },
    {
      "cell_type": "markdown",
      "source": [
        "**Answer Here:**Titles with 2–3 genres tend to have higher ratings compared to single-genre content."
      ],
      "metadata": {
        "id": "bfSqtnDqZNRR"
      }
    },
    {
      "cell_type": "markdown",
      "source": [
        "3. Will the gained insights help create a positive business impact?\n"
      ],
      "metadata": {
        "id": "zM8UEpyJBN2q"
      }
    },
    {
      "cell_type": "markdown",
      "source": [
        "**Answer Here:**Yes. Encourages more genre-diverse content, enhancing user appeal."
      ],
      "metadata": {
        "id": "Hg7Ox0bKBR05"
      }
    },
    {
      "cell_type": "markdown",
      "source": [
        "#### Chart - 15 - Pair Plot"
      ],
      "metadata": {
        "id": "q29F0dvdveiT"
      }
    },
    {
      "cell_type": "code",
      "source": [
        "# Pair Plot visualization code\n",
        "# 1️⃣5️⃣ Pair Plot\n",
        "plt.figure(figsize=(12,10))\n",
        "sns.pairplot(df[['imdb_score', 'runtime', 'content_age', 'tmdb_popularity']], diag_kind='kde')\n",
        "plt.suptitle('Pair Plot of Key Variables', y=1.02)\n",
        "plt.show()\n"
      ],
      "metadata": {
        "id": "o58-TEIhveiU"
      },
      "execution_count": null,
      "outputs": []
    },
    {
      "cell_type": "markdown",
      "source": [
        "##### 1. Why did you pick the specific chart?"
      ],
      "metadata": {
        "id": "EXh0U9oCveiU"
      }
    },
    {
      "cell_type": "markdown",
      "source": [
        "**Answer Here:**To analyze pairwise relationships between key variables like IMDb score, runtime, content age, and popularity.\n",
        "\n"
      ],
      "metadata": {
        "id": "eMmPjTByveiU"
      }
    },
    {
      "cell_type": "markdown",
      "source": [
        "##### 2. What is/are the insight(s) found from the chart?"
      ],
      "metadata": {
        "id": "22aHeOlLveiV"
      }
    },
    {
      "cell_type": "markdown",
      "source": [
        "**Answer Here:**Moderate positive correlation between IMDb score and tmdb_popularity. Weak correlations between other variables.\n"
      ],
      "metadata": {
        "id": "uPQ8RGwHveiV"
      }
    },
    {
      "cell_type": "markdown",
      "source": [
        "3. Will the gained insights help create a positive business impact?\n"
      ],
      "metadata": {
        "id": "vYIcIXT4DIPH"
      }
    },
    {
      "cell_type": "markdown",
      "source": [
        "**Answer Here:**Yes. Guides feature selection for machine learning models and highlights variables most affecting viewer engagement."
      ],
      "metadata": {
        "id": "wSWjPDH-DIpq"
      }
    },
    {
      "cell_type": "markdown",
      "source": [
        "## **5. Solution to Business Objective**\n"
      ],
      "metadata": {
        "id": "JcMwzZxoAimU"
      }
    },
    {
      "cell_type": "markdown",
      "source": [
        "#### What do you suggest the client to achieve Business Objective ?\n",
        "Explain Briefly."
      ],
      "metadata": {
        "id": "8G2x9gOozGDZ"
      }
    },
    {
      "cell_type": "markdown",
      "source": [
        "**Answer Here:**\n",
        "1. **Optimize Content Acquisition:** Focus on high-rated genres (Drama, Documentary) and top-performing directors.\n",
        "2. **Enhance Viewer Engagement:** Balance between Movies and TV Shows and promote niche content.\n",
        "3. **Improve Recommendations:** Use ML models to suggest high-rated content and personalize user experiences.\n",
        "4. **Targeted Marketing:** Promote new releases in trending genres and revive older, high-rated titles.\n",
        "5. **Continuous Monitoring:** Adapt strategies based on user preferences and engagement trends."
      ],
      "metadata": {
        "id": "pASKb0qOza21"
      }
    },
    {
      "cell_type": "markdown",
      "source": [
        "# **Conclusion**"
      ],
      "metadata": {
        "id": "gCX9965dhzqZ"
      }
    },
    {
      "cell_type": "markdown",
      "source": [
        "The **Amazon Prime TV Shows and Movies EDA** provided valuable insights into the platform's content landscape, highlighting user preferences, content performance, and potential growth areas. The analysis uncovered key patterns in genre popularity, content ratings, and production trends, enabling Amazon to make **data-driven decisions** for content acquisition and user engagement strategies.\n",
        "\n",
        "By focusing on **high-rated genres, enhancing content diversity**, and leveraging **machine learning models** for personalized recommendations, Amazon Prime can significantly improve **viewer satisfaction** and **retention rates**. Continuous data analysis and adapting to viewer trends will ensure the platform remains competitive and user-centric.\n",
        "# With these insights, Amazon Prime is better positioned to optimize its content library, increase user engagement, and drive long-term growth."
      ],
      "metadata": {
        "id": "Fjb1IsQkh3yE"
      }
    },
    {
      "cell_type": "markdown",
      "source": [
        "### ***Hurrah! You have successfully completed your EDA Capstone Project !!!***"
      ],
      "metadata": {
        "id": "gIfDvo9L0UH2"
      }
    }
  ]
}